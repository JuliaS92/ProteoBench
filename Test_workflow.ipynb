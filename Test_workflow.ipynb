{
 "cells": [
  {
   "cell_type": "code",
   "execution_count": 2,
   "metadata": {},
   "outputs": [],
   "source": [
    "import logging\n",
    "import os\n",
    "from datetime import datetime\n",
    "from proteobench.modules.dda_quant.module_dda_quant import load_input_file, parse_settings_dda_quant, get_quant, get_quant_ratios\n",
    "from proteobench.modules.dda_quant import parse_dda_id\n",
    "\n",
    "from proteobench.modules.dda_quant.parse_settings_dda_quant import INPUT_FORMATS\n",
    "try:\n",
    "    from importlib.metadata import version\n",
    "except ImportError:\n",
    "    from importlib_metadata import version\n",
    "\n",
    "from proteobench.modules.dda_quant import plot_dda_id\n",
    "\n",
    "\n"
   ]
  },
  {
   "cell_type": "code",
   "execution_count": 3,
   "metadata": {},
   "outputs": [
    {
     "ename": "AttributeError",
     "evalue": "'Series' object has no attribute 'columns'",
     "output_type": "error",
     "traceback": [
      "\u001b[0;31m---------------------------------------------------------------------------\u001b[0m",
      "\u001b[0;31mAttributeError\u001b[0m                            Traceback (most recent call last)",
      "Cell \u001b[0;32mIn [3], line 30\u001b[0m\n\u001b[1;32m     22\u001b[0m prepared_df, replicate_to_raw \u001b[39m=\u001b[39m parse_dda_id\u001b[39m.\u001b[39mprepare_df(\n\u001b[1;32m     23\u001b[0m     input_df,\n\u001b[1;32m     24\u001b[0m     parse_settings\n\u001b[1;32m     25\u001b[0m )\n\u001b[1;32m     27\u001b[0m \u001b[39m#print(prepared_df.columns)\u001b[39;00m\n\u001b[1;32m     28\u001b[0m \n\u001b[1;32m     29\u001b[0m \u001b[39m# Get quantification data\u001b[39;00m\n\u001b[0;32m---> 30\u001b[0m species_quant_df, cv_replicate_quant_df \u001b[39m=\u001b[39m get_quant(\n\u001b[1;32m     31\u001b[0m         prepared_df,\n\u001b[1;32m     32\u001b[0m         replicate_to_raw,\n\u001b[1;32m     33\u001b[0m         parse_settings\n\u001b[1;32m     34\u001b[0m )\n\u001b[1;32m     36\u001b[0m \u001b[39m# Compute quantification ratios\u001b[39;00m\n\u001b[1;32m     37\u001b[0m result_performance \u001b[39m=\u001b[39m get_quant_ratios(\n\u001b[1;32m     38\u001b[0m             cv_replicate_quant_df,\n\u001b[1;32m     39\u001b[0m             species_quant_df,\n\u001b[1;32m     40\u001b[0m             parse_settings\n\u001b[1;32m     41\u001b[0m )\n",
      "File \u001b[0;32m~/devel/Bioinformatics/EuBIC/Proteobench/Proteobench/proteobench/modules/dda_quant/module_dda_quant.py:31\u001b[0m, in \u001b[0;36mget_quant\u001b[0;34m(filtered_df, replicate_to_raw, parse_settings)\u001b[0m\n\u001b[1;32m     28\u001b[0m     mean_series \u001b[39m=\u001b[39m replicate_quant_df\u001b[39m.\u001b[39mgroupby([\u001b[39m\"\u001b[39m\u001b[39mpeptidoform\u001b[39m\u001b[39m\"\u001b[39m])\u001b[39m.\u001b[39mmean()\n\u001b[1;32m     29\u001b[0m     \u001b[39m# add mean_series as rows to quant_df with replicate as index\u001b[39;00m\n\u001b[1;32m     30\u001b[0m     \u001b[39m#quant_df = pd.concat([mean_series],axis=0,keys=[replicate_runs])\u001b[39;00m\n\u001b[0;32m---> 31\u001b[0m     \u001b[39mprint\u001b[39m(quant_df\u001b[39m.\u001b[39;49mcolumns)\n\u001b[1;32m     33\u001b[0m quant_df[\u001b[39m\"\u001b[39m\u001b[39mmeans\u001b[39m\u001b[39m\"\u001b[39m] \u001b[39m=\u001b[39m pd\u001b[39m.\u001b[39mDataFrame(replicate_quant_list)\n\u001b[1;32m     35\u001b[0m species_peptidoform \u001b[39m=\u001b[39m \u001b[39mlist\u001b[39m(parse_settings\u001b[39m.\u001b[39mspecies_dict\u001b[39m.\u001b[39mkeys())\n",
      "File \u001b[0;32m/usr/local/lib/python3.10/dist-packages/pandas/core/generic.py:5575\u001b[0m, in \u001b[0;36mNDFrame.__getattr__\u001b[0;34m(self, name)\u001b[0m\n\u001b[1;32m   5568\u001b[0m \u001b[39mif\u001b[39;00m (\n\u001b[1;32m   5569\u001b[0m     name \u001b[39mnot\u001b[39;00m \u001b[39min\u001b[39;00m \u001b[39mself\u001b[39m\u001b[39m.\u001b[39m_internal_names_set\n\u001b[1;32m   5570\u001b[0m     \u001b[39mand\u001b[39;00m name \u001b[39mnot\u001b[39;00m \u001b[39min\u001b[39;00m \u001b[39mself\u001b[39m\u001b[39m.\u001b[39m_metadata\n\u001b[1;32m   5571\u001b[0m     \u001b[39mand\u001b[39;00m name \u001b[39mnot\u001b[39;00m \u001b[39min\u001b[39;00m \u001b[39mself\u001b[39m\u001b[39m.\u001b[39m_accessors\n\u001b[1;32m   5572\u001b[0m     \u001b[39mand\u001b[39;00m \u001b[39mself\u001b[39m\u001b[39m.\u001b[39m_info_axis\u001b[39m.\u001b[39m_can_hold_identifiers_and_holds_name(name)\n\u001b[1;32m   5573\u001b[0m ):\n\u001b[1;32m   5574\u001b[0m     \u001b[39mreturn\u001b[39;00m \u001b[39mself\u001b[39m[name]\n\u001b[0;32m-> 5575\u001b[0m \u001b[39mreturn\u001b[39;00m \u001b[39mobject\u001b[39;49m\u001b[39m.\u001b[39;49m\u001b[39m__getattribute__\u001b[39;49m(\u001b[39mself\u001b[39;49m, name)\n",
      "\u001b[0;31mAttributeError\u001b[0m: 'Series' object has no attribute 'columns'"
     ]
    }
   ],
   "source": [
    "TESTDATA_DIR = \"../Data/WOMBAT/\"\n",
    "TESTDATA_FILES = { \"WOMBAT\"         : os.path.join(TESTDATA_DIR, 'stand_pep_quant_mergedproline.csv'),\n",
    "                 \"MaxQuant\"         : os.path.join(TESTDATA_DIR, 'evidence_sample.txt')\n",
    "}\n",
    "user_input = dict()\n",
    "user_input[\"input_csv\"] = TESTDATA_FILES[\"WOMBAT\"]\n",
    "user_input[\"input_format\"] = \"WOMBAT\"\n",
    "user_input[\"mbr\"] = True\n",
    "#df = module_dda_quant.benchmarking(\n",
    "#    user_input[\"input_csv\"],\n",
    "#    user_input[\"input_format\"],\n",
    "#    user_input[\"mbr\"]\n",
    "#)\n",
    "\n",
    "input_file = user_input[\"input_csv\"]\n",
    "input_format =user_input[\"input_format\"]\n",
    "\n",
    "# Parse user config\n",
    "input_df = load_input_file(input_file,input_format)\n",
    "parse_settings = parse_settings_dda_quant.ParseSettings(input_format)\n",
    "\n",
    "prepared_df, replicate_to_raw = parse_dda_id.prepare_df(\n",
    "    input_df,\n",
    "    parse_settings\n",
    ")\n",
    "\n",
    "#print(prepared_df.columns)\n",
    "\n",
    "# Get quantification data\n",
    "species_quant_df, cv_replicate_quant_df = get_quant(\n",
    "        prepared_df,\n",
    "        replicate_to_raw,\n",
    "        parse_settings\n",
    ")\n",
    "\n",
    "# Compute quantification ratios\n",
    "result_performance = get_quant_ratios(\n",
    "            cv_replicate_quant_df,\n",
    "            species_quant_df,\n",
    "            parse_settings\n",
    ")"
   ]
  },
  {
   "cell_type": "code",
   "execution_count": 1,
   "metadata": {},
   "outputs": [
    {
     "ename": "NameError",
     "evalue": "name 'df' is not defined",
     "output_type": "error",
     "traceback": [
      "\u001b[0;31m---------------------------------------------------------------------------\u001b[0m",
      "\u001b[0;31mNameError\u001b[0m                                 Traceback (most recent call last)",
      "Cell \u001b[0;32mIn [1], line 2\u001b[0m\n\u001b[1;32m      1\u001b[0m meltvars \u001b[39m=\u001b[39m [\u001b[39m'\u001b[39m\u001b[39mabundance_A_1\u001b[39m\u001b[39m'\u001b[39m, \u001b[39m'\u001b[39m\u001b[39mabundance_A_2\u001b[39m\u001b[39m'\u001b[39m, \u001b[39m'\u001b[39m\u001b[39mabundance_A_3\u001b[39m\u001b[39m'\u001b[39m, \u001b[39m'\u001b[39m\u001b[39mabundance_B_1\u001b[39m\u001b[39m'\u001b[39m, \u001b[39m'\u001b[39m\u001b[39mabundance_B_2\u001b[39m\u001b[39m'\u001b[39m, \u001b[39m'\u001b[39m\u001b[39mabundance_B_3\u001b[39m\u001b[39m'\u001b[39m]\n\u001b[0;32m----> 2\u001b[0m df\u001b[39m.\u001b[39mmelt(id_vars\u001b[39m=\u001b[39m\u001b[39mlist\u001b[39m(\u001b[39mset\u001b[39m(df\u001b[39m.\u001b[39mcolumns)\u001b[39m.\u001b[39mdifference(\u001b[39mset\u001b[39m(meltvars))), value_vars\u001b[39m=\u001b[39mmeltvars, var_name\u001b[39m=\u001b[39m\u001b[39m\"\u001b[39m\u001b[39mRaw file\u001b[39m\u001b[39m\"\u001b[39m, value_name\u001b[39m=\u001b[39m\u001b[39m\"\u001b[39m\u001b[39mIntensity\u001b[39m\u001b[39m\"\u001b[39m)\n",
      "\u001b[0;31mNameError\u001b[0m: name 'df' is not defined"
     ]
    }
   ],
   "source": [
    "meltvars = ['abundance_A_1', 'abundance_A_2', 'abundance_A_3', 'abundance_B_1', 'abundance_B_2', 'abundance_B_3']\n",
    "df.melt(id_vars=list(set(df.columns).difference(set(meltvars))), value_vars=meltvars, var_name=\"Raw file\", value_name=\"Intensity\")"
   ]
  },
  {
   "cell_type": "code",
   "execution_count": null,
   "metadata": {},
   "outputs": [],
   "source": [
    "df.keys()\n"
   ]
  },
  {
   "cell_type": "code",
   "execution_count": null,
   "metadata": {},
   "outputs": [],
   "source": [
    "print(list(set(df.columns).difference(set(meltvars))))\n"
   ]
  },
  {
   "cell_type": "code",
   "execution_count": null,
   "metadata": {},
   "outputs": [],
   "source": []
  },
  {
   "cell_type": "code",
   "execution_count": null,
   "metadata": {},
   "outputs": [],
   "source": []
  }
 ],
 "metadata": {
  "kernelspec": {
   "display_name": "Python 3",
   "language": "python",
   "name": "python3"
  },
  "language_info": {
   "codemirror_mode": {
    "name": "ipython",
    "version": 3
   },
   "file_extension": ".py",
   "mimetype": "text/x-python",
   "name": "python",
   "nbconvert_exporter": "python",
   "pygments_lexer": "ipython3",
   "version": "3.10.6"
  },
  "orig_nbformat": 4,
  "vscode": {
   "interpreter": {
    "hash": "916dbcbb3f70747c44a77c7bcd40155683ae19c65e1c03b4aa3499c5328201f1"
   }
  }
 },
 "nbformat": 4,
 "nbformat_minor": 2
}
