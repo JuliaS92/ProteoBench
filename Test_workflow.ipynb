{
 "cells": [
  {
   "cell_type": "code",
   "execution_count": 1,
   "metadata": {},
   "outputs": [],
   "source": [
    "import logging\n",
    "import os\n",
    "from datetime import datetime\n",
    "from proteobench.modules.dda_quant.module import Module\n",
    "from proteobench.modules.dda_quant.parse import ParseInputs\n",
    "\n",
    "from proteobench.modules.dda_quant.parse_settings import INPUT_FORMATS\n",
    "try:\n",
    "    from importlib.metadata import version\n",
    "except ImportError:\n",
    "    from importlib_metadata import version\n",
    "\n",
    "from proteobench.modules.dda_quant.plot import PlotDataPoint\n",
    "from proteobench.modules.dda_quant.parse_settings import (\n",
    "    DDA_QUANT_RESULTS_PATH,\n",
    "    ParseSettings,\n",
    ")\n",
    "#from proteobench.modules.dda_quant.__metadata__ import Metadata\n",
    "\n",
    "\n",
    "\n"
   ]
  },
  {
   "cell_type": "code",
   "execution_count": 17,
   "metadata": {},
   "outputs": [
    {
     "name": "stderr",
     "output_type": "stream",
     "text": [
      "/opt/venv/lib/python3.11/site-packages/openpyxl/styles/stylesheet.py:226: UserWarning: Workbook contains no default style, apply openpyxl's default\n",
      "  warn(\"Workbook contains no default style, apply openpyxl's default\")\n"
     ]
    }
   ],
   "source": [
    "TESTDATA_DIR = \"Data/WOMBAT/\"\n",
    "TESTDATA_FILES = { \"WOMBAT\"         : os.path.join(TESTDATA_DIR, 'stand_pep_quant_mergedproline.csv'),\n",
    "                  \"MaxQuant\"         : os.path.join(TESTDATA_DIR, 'evidence_sample.txt'),\n",
    "                  \"Proline\"          : os.path.join(TESTDATA_DIR, 'proline_results_853f874e-c463-4fbe-ba9f-ac59dce968f3.xlsx')\n",
    "}\n",
    "user_input = dict()\n",
    "user_input[\"input_csv\"] = TESTDATA_FILES[\"Proline\"]\n",
    "user_input[\"input_format\"] = \"Proline\"\n",
    "user_input[\"mbr\"] = True\n",
    "user_input[\"version\"] = \"1.1\"\n",
    "user_input[\"fdr_psm\"] = 0.01\n",
    "user_input[\"fdr_peptide\"] = 0.01\n",
    "user_input[\"fdr_protein\"] = 0.01\n",
    "user_input[\"precursor_mass_tolerance\"] = 0.05\n",
    "user_input[\"precursor_mass_tolerance_unit\"] = \"Da\"\n",
    "user_input[\"fragment_mass_tolerance\"] = 50\n",
    "user_input[\"fragment_mass_tolerance_unit\"] = \"ppm\"\n",
    "user_input[\"search_enzyme_name\"] = \"Trypsin\"\n",
    "user_input[\"allowed_missed_cleavage\"] = 1\n",
    "user_input[\"min_peptide_length\"] = 5\n",
    "user_input[\"max_peptide_length\"] = 10\n",
    "#df = module_dda_quant.benchmarking(\n",
    "#    user_input[\"input_csv\"],\n",
    "#    user_input[\"input_format\"],\n",
    "#    user_input[\"mbr\"]\n",
    "#)\n",
    "\n",
    "input_file = user_input[\"input_csv\"]\n",
    "input_format =user_input[\"input_format\"]\n",
    "\n",
    "# Parse user config\n",
    "my_module = Module()\n",
    "input_df = my_module.load_input_file(input_file,input_format)\n",
    "parse_settings = ParseSettings(input_format)\n",
    "standard_format, replicate_to_raw = ParseInputs().convert_to_standard_format(\n",
    "            input_df, parse_settings\n",
    "        )\n",
    "\n",
    "\n"
   ]
  },
  {
   "cell_type": "code",
   "execution_count": 18,
   "metadata": {},
   "outputs": [
    {
     "name": "stderr",
     "output_type": "stream",
     "text": [
      "/home/veit/devel/Bioinformatics/EuBIC/Proteobench/proteobench/modules/dda_quant/module.py:56: UserWarning: DataFrame columns are not unique, some columns will be omitted.\n",
      "  peptidoform_to_species_dict = peptidoform_to_species.T.to_dict()\n"
     ]
    }
   ],
   "source": [
    "intermediate_data_structure = my_module.generate_intermediate(\n",
    "            standard_format, replicate_to_raw, parse_settings\n",
    "        )\n"
   ]
  },
  {
   "cell_type": "code",
   "execution_count": 19,
   "metadata": {},
   "outputs": [
    {
     "name": "stdout",
     "output_type": "stream",
     "text": [
      "Proline_1.1_1686668898.956775\n"
     ]
    }
   ],
   "source": [
    "current_datapoint = my_module.generate_datapoint(\n",
    "            intermediate_data_structure, input_format, user_input\n",
    "        )\n"
   ]
  },
  {
   "cell_type": "code",
   "execution_count": 20,
   "metadata": {},
   "outputs": [
    {
     "data": {
      "text/plain": [
       "id                    Proline_1.1_1686668898.956775\n",
       "search_engine                               Proline\n",
       "software_version                                1.1\n",
       "fdr_psm                                        0.01\n",
       "fdr_peptide                                    0.01\n",
       "fdr_protein                                    0.01\n",
       "MBR                                            True\n",
       "precursor_tol                                  0.05\n",
       "precursor_tol_unit                               Da\n",
       "fragmnent_tol                                    50\n",
       "fragment_tol_unit                               ppm\n",
       "enzyme_name                                 Trypsin\n",
       "missed_cleavages                                  1\n",
       "min_pep_length                                    5\n",
       "max_pep_length                                   10\n",
       "weighted_sum                                 53.195\n",
       "nr_prec                                       41314\n",
       "is_temporary                                   True\n",
       "dtype: object"
      ]
     },
     "execution_count": 20,
     "metadata": {},
     "output_type": "execute_result"
    }
   ],
   "source": [
    "current_datapoint\n",
    "\n"
   ]
  },
  {
   "cell_type": "code",
   "execution_count": null,
   "metadata": {},
   "outputs": [],
   "source": []
  },
  {
   "cell_type": "code",
   "execution_count": 15,
   "metadata": {},
   "outputs": [
    {
     "name": "stdout",
     "output_type": "stream",
     "text": [
      "Collecting openpyxl\n",
      "  Using cached openpyxl-3.1.2-py2.py3-none-any.whl (249 kB)\n",
      "Collecting et-xmlfile\n",
      "  Using cached et_xmlfile-1.1.0-py3-none-any.whl (4.7 kB)\n",
      "Installing collected packages: et-xmlfile, openpyxl\n",
      "Successfully installed et-xmlfile-1.1.0 openpyxl-3.1.2\n"
     ]
    }
   ],
   "source": []
  },
  {
   "cell_type": "code",
   "execution_count": null,
   "metadata": {},
   "outputs": [],
   "source": []
  }
 ],
 "metadata": {
  "kernelspec": {
   "display_name": "Python 3 (ipykernel)",
   "language": "python",
   "name": "python3"
  },
  "language_info": {
   "codemirror_mode": {
    "name": "ipython",
    "version": 3
   },
   "file_extension": ".py",
   "mimetype": "text/x-python",
   "name": "python",
   "nbconvert_exporter": "python",
   "pygments_lexer": "ipython3",
   "version": "3.11.2"
  },
  "vscode": {
   "interpreter": {
    "hash": "916dbcbb3f70747c44a77c7bcd40155683ae19c65e1c03b4aa3499c5328201f1"
   }
  }
 },
 "nbformat": 4,
 "nbformat_minor": 4
}
